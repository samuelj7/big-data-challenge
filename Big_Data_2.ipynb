{
  "nbformat": 4,
  "nbformat_minor": 0,
  "metadata": {
    "colab": {
      "name": "Big_Data_2.ipynb",
      "provenance": [],
      "collapsed_sections": [],
      "authorship_tag": "ABX9TyMhWXi48ZY1p+f2jeWwa4PR",
      "include_colab_link": true
    },
    "kernelspec": {
      "name": "python3",
      "display_name": "Python 3"
    },
    "language_info": {
      "name": "python"
    }
  },
  "cells": [
    {
      "cell_type": "markdown",
      "metadata": {
        "id": "view-in-github",
        "colab_type": "text"
      },
      "source": [
        "<a href=\"https://colab.research.google.com/github/samuelj7/big-data-challenge/blob/main/Big_Data_2.ipynb\" target=\"_parent\"><img src=\"https://colab.research.google.com/assets/colab-badge.svg\" alt=\"Open In Colab\"/></a>"
      ]
    },
    {
      "cell_type": "code",
      "execution_count": null,
      "metadata": {
        "colab": {
          "base_uri": "https://localhost:8080/"
        },
        "id": "knSZKQac0OHn",
        "outputId": "3544ded4-875e-4240-f588-23d3c2941fc1"
      },
      "outputs": [
        {
          "output_type": "stream",
          "name": "stdout",
          "text": [
            "\r0% [Working]\r            \rGet:1 https://cloud.r-project.org/bin/linux/ubuntu bionic-cran40/ InRelease [3,626 B]\n",
            "\r0% [Connecting to archive.ubuntu.com (185.125.190.39)] [Connecting to security.\r0% [Connecting to archive.ubuntu.com (185.125.190.39)] [Connecting to security.\r                                                                               \rHit:2 https://developer.download.nvidia.com/compute/cuda/repos/ubuntu1804/x86_64  InRelease\n",
            "\r0% [Connecting to archive.ubuntu.com (185.125.190.39)] [Waiting for headers] [C\r0% [1 InRelease gpgv 3,626 B] [Waiting for headers] [Waiting for headers] [Conn\r                                                                               \rGet:3 http://security.ubuntu.com/ubuntu bionic-security InRelease [88.7 kB]\n",
            "Hit:4 http://archive.ubuntu.com/ubuntu bionic InRelease\n",
            "Hit:5 http://ppa.launchpad.net/c2d4u.team/c2d4u4.0+/ubuntu bionic InRelease\n",
            "Get:6 http://archive.ubuntu.com/ubuntu bionic-updates InRelease [88.7 kB]\n",
            "Ign:7 https://developer.download.nvidia.com/compute/machine-learning/repos/ubuntu1804/x86_64  InRelease\n",
            "Hit:8 https://developer.download.nvidia.com/compute/machine-learning/repos/ubuntu1804/x86_64  Release\n",
            "Hit:9 http://ppa.launchpad.net/cran/libgit2/ubuntu bionic InRelease\n",
            "Get:10 http://archive.ubuntu.com/ubuntu bionic-backports InRelease [74.6 kB]\n",
            "Hit:11 http://ppa.launchpad.net/deadsnakes/ppa/ubuntu bionic InRelease\n",
            "Get:12 http://ppa.launchpad.net/graphics-drivers/ppa/ubuntu bionic InRelease [21.3 kB]\n",
            "Get:14 http://security.ubuntu.com/ubuntu bionic-security/universe amd64 Packages [1,503 kB]\n",
            "Get:15 http://security.ubuntu.com/ubuntu bionic-security/main amd64 Packages [2,765 kB]\n",
            "Get:16 http://security.ubuntu.com/ubuntu bionic-security/multiverse amd64 Packages [22.8 kB]\n",
            "Get:17 http://security.ubuntu.com/ubuntu bionic-security/restricted amd64 Packages [932 kB]\n",
            "Get:18 http://archive.ubuntu.com/ubuntu bionic-updates/restricted amd64 Packages [966 kB]\n",
            "Get:19 http://archive.ubuntu.com/ubuntu bionic-updates/multiverse amd64 Packages [29.8 kB]\n",
            "Get:20 http://archive.ubuntu.com/ubuntu bionic-updates/main amd64 Packages [3,199 kB]\n",
            "Get:21 http://archive.ubuntu.com/ubuntu bionic-updates/universe amd64 Packages [2,277 kB]\n",
            "Get:22 http://ppa.launchpad.net/graphics-drivers/ppa/ubuntu bionic/main amd64 Packages [44.3 kB]\n",
            "Fetched 12.0 MB in 5s (2,375 kB/s)\n",
            "Reading package lists... Done\n"
          ]
        }
      ],
      "source": [
        "import os\n",
        "# Find the latest version of spark 3.0  from http://www.apache.org/dist/spark/ and enter as the spark version\n",
        "# For example:\n",
        "# spark_version = 'spark-3.0.3'\n",
        "spark_version = 'spark-3.0.3'\n",
        "os.environ['SPARK_VERSION']=spark_version\n",
        "\n",
        "# Install Spark and Java\n",
        "!apt-get update\n",
        "!apt-get install openjdk-8-jdk-headless -qq > /dev/null\n",
        "!wget -q http://www.apache.org/dist/spark/$SPARK_VERSION/$SPARK_VERSION-bin-hadoop2.7.tgz\n",
        "!tar xf $SPARK_VERSION-bin-hadoop2.7.tgz\n",
        "!pip install -q findspark\n",
        "\n",
        "# Set Environment Variables\n",
        "os.environ[\"JAVA_HOME\"] = \"/usr/lib/jvm/java-8-openjdk-amd64\"\n",
        "os.environ[\"SPARK_HOME\"] = f\"/content/{spark_version}-bin-hadoop2.7\"\n",
        "\n",
        "# Start a SparkSession\n",
        "import findspark\n",
        "findspark.init()"
      ]
    },
    {
      "cell_type": "code",
      "source": [
        "#Make connection to postgres\n",
        "!wget https://jdbc.postgresql.org/download/postgresql-42.2.9.jar"
      ],
      "metadata": {
        "colab": {
          "base_uri": "https://localhost:8080/"
        },
        "id": "9SVYROhq0nqo",
        "outputId": "89395e37-cdb5-4262-a6d5-fcc3323677eb"
      },
      "execution_count": null,
      "outputs": [
        {
          "output_type": "stream",
          "name": "stdout",
          "text": [
            "--2022-05-23 07:29:57--  https://jdbc.postgresql.org/download/postgresql-42.2.9.jar\n",
            "Resolving jdbc.postgresql.org (jdbc.postgresql.org)... 72.32.157.228, 2001:4800:3e1:1::228\n",
            "Connecting to jdbc.postgresql.org (jdbc.postgresql.org)|72.32.157.228|:443... connected.\n",
            "HTTP request sent, awaiting response... 200 OK\n",
            "Length: 914037 (893K) [application/java-archive]\n",
            "Saving to: ‘postgresql-42.2.9.jar’\n",
            "\n",
            "postgresql-42.2.9.j 100%[===================>] 892.61K  5.20MB/s    in 0.2s    \n",
            "\n",
            "2022-05-23 07:29:57 (5.20 MB/s) - ‘postgresql-42.2.9.jar’ saved [914037/914037]\n",
            "\n"
          ]
        }
      ]
    },
    {
      "cell_type": "code",
      "source": [
        "from pyspark.sql import SparkSession\n",
        "spark = SparkSession.builder.appName(\"CloudETL\").config(\"spark.driver.extraClassPath\",\"/content/postgresql-42.2.9.jar\").getOrCreate()"
      ],
      "metadata": {
        "id": "XTH-IKp_0pi3"
      },
      "execution_count": null,
      "outputs": []
    },
    {
      "cell_type": "code",
      "source": [
        "from pyspark import SparkFiles\n",
        "# Load in .csv from S3 into a DataFrame\n",
        "url = \"https://s3.amazonaws.com/amazon-reviews-pds/tsv/amazon_reviews_us_Digital_Music_Purchase_v1_00.tsv.gz\"\n",
        "spark.sparkContext.addFile(url)\n",
        "\n",
        "df = spark.read.option('header', 'true').csv(SparkFiles.get(\"amazon_reviews_us_Digital_Music_Purchase_v1_00.tsv.gz\"), inferSchema=True, sep='\\t', timestampFormat=\"mm/dd/yy\")\n",
        "df.show(10)"
      ],
      "metadata": {
        "colab": {
          "base_uri": "https://localhost:8080/"
        },
        "id": "gajllAJI0u1w",
        "outputId": "73262b1d-247e-4d8e-c1ec-724db2459694"
      },
      "execution_count": null,
      "outputs": [
        {
          "output_type": "stream",
          "name": "stdout",
          "text": [
            "+-----------+-----------+--------------+----------+--------------+--------------------+--------------------+-----------+-------------+-----------+----+-----------------+--------------------+--------------------+-----------+\n",
            "|marketplace|customer_id|     review_id|product_id|product_parent|       product_title|    product_category|star_rating|helpful_votes|total_votes|vine|verified_purchase|     review_headline|         review_body|review_date|\n",
            "+-----------+-----------+--------------+----------+--------------+--------------------+--------------------+-----------+-------------+-----------+----+-----------------+--------------------+--------------------+-----------+\n",
            "|         US|   10293599|R14LVB34Z2Z53I|B000YMOQZY|     262935067|Knockin' On Heave...|Digital_Music_Pur...|          5|            0|          0|   N|                Y|           favorites|Great  rendition....| 2015-08-31|\n",
            "|         US|    6087195|R2M0R9CWPC82LT|B00ISAEC80|     452318038|            Flawless|Digital_Music_Pur...|          5|            0|          0|   N|                Y|          Five Stars|A good music to l...| 2015-08-31|\n",
            "|         US|   33717063| RQNQI2R3BM52A|B00VBB6AVU|     675969129|    Scandal of Grace|Digital_Music_Pur...|          4|            0|          0|   N|                Y|                Good|Not as good as th...| 2015-08-31|\n",
            "|         US|   14948020| RTUIX1135HUAB|B008A5POJO|     282925893|  I Surrender (Live)|Digital_Music_Pur...|          5|            0|          0|   N|                Y|Wonderful lyrics!...|Time to worship a...| 2015-08-31|\n",
            "|         US|   21694522| RE3QSAT8TL010|B014CW2RN4|     109077793|We Are Young (Jer...|Digital_Music_Pur...|          4|            0|          0|   N|                Y|Hot remix but too...|So this should be...| 2015-08-31|\n",
            "|         US|   14948020|R14TN65IY0NUOD|B00DRA3EOY|     959245080|        Lord, I Live|Digital_Music_Pur...|          5|            0|          0|   N|                Y|          Five Stars|Clint Brown is an...| 2015-08-31|\n",
            "|         US|   20031966|R3LIF8MCNH1ODF|B009G3U0PW|     762436916|  I'll Never Be Free|Digital_Music_Pur...|          5|            0|          0|   N|                Y|\"I'll never be fr...|LaVerne Butler is...| 2015-08-31|\n",
            "|         US|   12223745|R33X0DGA4PPQ3L|B013XBYQOS|     137980344|    All of the Stars|Digital_Music_Pur...|          5|            3|          3|   N|                N| long awaited treat!|For some reason I...| 2015-08-31|\n",
            "|         US|   30231876|R2DJJP7DQRT1ZW|B003L5H25W|     165995375|Exile On Main Str...|Digital_Music_Pur...|          5|            0|          1|   N|                Y|          Five Stars|The Stones at the...| 2015-08-31|\n",
            "|         US|   51714365|R2A8XDXW5XOT4H|B00136NVH4|     227508666|     Bat Out Of Hell|Digital_Music_Pur...|          5|            0|          0|   N|                Y|    Transcends Time.|    Simply the best.| 2015-08-31|\n",
            "+-----------+-----------+--------------+----------+--------------+--------------------+--------------------+-----------+-------------+-----------+----+-----------------+--------------------+--------------------+-----------+\n",
            "only showing top 10 rows\n",
            "\n"
          ]
        }
      ]
    },
    {
      "cell_type": "code",
      "source": [
        "print(df.count())\n",
        "df = df.dropna()\n",
        "print(df.count())\n",
        "df = df.dropDuplicates()\n",
        "print(df.count())"
      ],
      "metadata": {
        "colab": {
          "base_uri": "https://localhost:8080/"
        },
        "id": "Xf8i-ooh06Sy",
        "outputId": "9adf9ea1-2e8c-4c3d-bc3f-47bc9c2f7dfb"
      },
      "execution_count": null,
      "outputs": [
        {
          "output_type": "stream",
          "name": "stdout",
          "text": [
            "1688884\n",
            "1688606\n",
            "1688606\n"
          ]
        }
      ]
    },
    {
      "cell_type": "code",
      "source": [
        "df.printSchema()"
      ],
      "metadata": {
        "colab": {
          "base_uri": "https://localhost:8080/"
        },
        "id": "koTWDZex1Vda",
        "outputId": "ccd1a6e4-caa2-4601-c1e0-d3f1e41140e3"
      },
      "execution_count": null,
      "outputs": [
        {
          "output_type": "stream",
          "name": "stdout",
          "text": [
            "root\n",
            " |-- marketplace: string (nullable = true)\n",
            " |-- customer_id: integer (nullable = true)\n",
            " |-- review_id: string (nullable = true)\n",
            " |-- product_id: string (nullable = true)\n",
            " |-- product_parent: integer (nullable = true)\n",
            " |-- product_title: string (nullable = true)\n",
            " |-- product_category: string (nullable = true)\n",
            " |-- star_rating: integer (nullable = true)\n",
            " |-- helpful_votes: integer (nullable = true)\n",
            " |-- total_votes: integer (nullable = true)\n",
            " |-- vine: string (nullable = true)\n",
            " |-- verified_purchase: string (nullable = true)\n",
            " |-- review_headline: string (nullable = true)\n",
            " |-- review_body: string (nullable = true)\n",
            " |-- review_date: string (nullable = true)\n",
            "\n"
          ]
        }
      ]
    },
    {
      "cell_type": "code",
      "source": [
        "from pyspark.sql.functions import col"
      ],
      "metadata": {
        "id": "gl9mbN2m2puC"
      },
      "execution_count": null,
      "outputs": []
    },
    {
      "cell_type": "code",
      "source": [
        "from pyspark.sql.functions import to_date"
      ],
      "metadata": {
        "id": "qArcAhsi2q0F"
      },
      "execution_count": null,
      "outputs": []
    },
    {
      "cell_type": "code",
      "source": [
        "df_v2 = df.withColumn('review_date', to_date('review_date', 'yyyy-MM-dd'))\n",
        "df_v2.show()"
      ],
      "metadata": {
        "colab": {
          "base_uri": "https://localhost:8080/"
        },
        "id": "UiO_e8Xj2uCq",
        "outputId": "d749a7d7-4232-40a0-90cf-d2e84df15620"
      },
      "execution_count": null,
      "outputs": [
        {
          "output_type": "stream",
          "name": "stdout",
          "text": [
            "+-----------+-----------+--------------+----------+--------------+--------------------+--------------------+-----------+-------------+-----------+----+-----------------+--------------------+--------------------+-----------+\n",
            "|marketplace|customer_id|     review_id|product_id|product_parent|       product_title|    product_category|star_rating|helpful_votes|total_votes|vine|verified_purchase|     review_headline|         review_body|review_date|\n",
            "+-----------+-----------+--------------+----------+--------------+--------------------+--------------------+-----------+-------------+-----------+----+-----------------+--------------------+--------------------+-----------+\n",
            "|         US|   10883775|R100C51VV2VHDO|B00TU1DE1M|     852458999|           Acid Rain|Digital_Music_Pur...|          5|            0|          0|   N|                Y|          Five Stars|Love it can't  wa...| 2015-03-26|\n",
            "|         US|   19784609|R100JA85U1VLS2|B00136PPVO|      26005784|A Little Bit (Alb...|Digital_Music_Pur...|          5|            0|          0|   N|                Y|          great song|This song is real...| 2012-10-11|\n",
            "|         US|   34449099|R10124X73KCB3Y|B0085LHUCC|     599118673|See You In September|Digital_Music_Pur...|          5|            0|          0|   N|                Y|           good band|Another great  So...| 2013-12-23|\n",
            "|         US|   21317917|R10176O229WK9C|B000U8O4WM|     151883093|    Caribbean Breeze|Digital_Music_Pur...|          5|            1|          1|   N|                N|I always enjoy li...|I always enjoy li...| 2014-07-01|\n",
            "|         US|   11981312|R1034NZ7GBLAGL|B004LY53SU|     884755125|           Yo No Fui|Digital_Music_Pur...|          5|            0|          0|   N|                Y|             symbols|Just don't like t...| 2015-08-06|\n",
            "|         US|   12549169|R103XSHUPLDKLS|B00GBCMW9S|     530484605|The Marshall Math...|Digital_Music_Pur...|          5|            3|          5|   N|                N|           Unbelieve|I have on amazon ...| 2013-11-09|\n",
            "|         US|   16700850| R104P6WTTR8IT|B006YJMWRU|     169114284|King Of Wishful T...|Digital_Music_Pur...|          5|            0|          0|   N|                Y|king of wishful t...|i haved wanted th...| 2012-10-07|\n",
            "|         US|   17768040|R104Y1XZNVZV3N|B000YGK9N8|     372899912|You Can't Fix Stupid|Digital_Music_Pur...|          4|            0|          0|   N|                Y|          Four Stars|Very funny, great...| 2014-10-14|\n",
            "|         US|   14681083|R1078H2CWGRBFB|B0013HB6SE|     686465368|The Wabash Cannon...|Digital_Music_Pur...|          5|            0|          0|   N|                Y|          Five Stars|Great Gospel-Blue...| 2015-08-14|\n",
            "|         US|   17267946|R107D1FGJPDHNM|B001NTI8WY|     712339004|Weird Science (Al...|Digital_Music_Pur...|          5|            0|          0|   N|                Y|          Five Stars|  Great 80's song...| 2015-08-09|\n",
            "|         US|   14240411|R1089QB3DHU7L7|B00138ID7U|     750101767|  How Great Thou Art|Digital_Music_Pur...|          2|            0|          0|   N|                Y|        Not the best|I was looking for...| 2013-12-30|\n",
            "|         US|   43738799|R108HHSB8V0WB3|B00ECJ7KAS|     514435493|O.M.O (Own My Own...|Digital_Music_Pur...|          5|            0|          0|   N|                N|           #BROOKLYN|#SUPPORTNOTES THI...| 2013-08-29|\n",
            "|         US|    5766233|R109AS4NXHR3JK|B0096RLJTY|      64548631|     House Of Groove|Digital_Music_Pur...|          5|            0|          0|   N|                Y|          Five Stars|            Great cd| 2015-03-15|\n",
            "|         US|   43022427|R10AQSQ9779IDI|B0031YEBGG|     727646014|Santa Claus Is Co...|Digital_Music_Pur...|          5|            0|          0|   N|                Y|Santa Claus is Co...|I was adding to m...| 2015-01-02|\n",
            "|         US|   13135452|R10AT7QFCZGH5O|B00A8AFP66|      73123416|Heart Of The Univ...|Digital_Music_Pur...|          5|            0|          0|   N|                Y|amazing and beaut...|Simply....amazing...| 2015-04-30|\n",
            "|         US|   28646969|R10C87L9TAYH5B|B004JENU50|     292208660|        Lakota Tears|Digital_Music_Pur...|          5|            0|          0|   N|                Y|Ancestral Native ...|Amazing music. Le...| 2014-07-30|\n",
            "|         US|   52516798|R10F56WV28FKLL|B0028EKUR4|     781217077|       The Magic Key|Digital_Music_Pur...|          5|            0|          0|   N|                Y|      Simply Amazing|I love it when ar...| 2012-04-14|\n",
            "|         US|   33248516|R10FADC45WQ9L2|B00906I49E|     955920573|         Human Being|Digital_Music_Pur...|          4|            0|          0|   N|                Y|Cool euro poetic ...|A spacey, drone l...| 2013-01-27|\n",
            "|         US|   32415973|R10FEXC5R0HZZK|B00EZ2FBVC|     887347416|Connecting With Y...|Digital_Music_Pur...|          3|            6|         12|   N|                Y|Three Stars = Ave...|Guided meditation...| 2014-06-04|\n",
            "|         US|   45695284|R10GF7M9Y2WMFJ|B006GBEJRW|     604277961|          The Teaser|Digital_Music_Pur...|          5|            2|          2|   N|                N|       AMAZING ALBUM|This album is ama...| 2011-12-09|\n",
            "+-----------+-----------+--------------+----------+--------------+--------------------+--------------------+-----------+-------------+-----------+----+-----------------+--------------------+--------------------+-----------+\n",
            "only showing top 20 rows\n",
            "\n"
          ]
        }
      ]
    },
    {
      "cell_type": "code",
      "source": [
        "df_v2.printSchema()"
      ],
      "metadata": {
        "colab": {
          "base_uri": "https://localhost:8080/"
        },
        "id": "yN08g66R24EI",
        "outputId": "2db1cec0-cdc0-47da-e7e3-1def7691ee5b"
      },
      "execution_count": null,
      "outputs": [
        {
          "output_type": "stream",
          "name": "stdout",
          "text": [
            "root\n",
            " |-- marketplace: string (nullable = true)\n",
            " |-- customer_id: integer (nullable = true)\n",
            " |-- review_id: string (nullable = true)\n",
            " |-- product_id: string (nullable = true)\n",
            " |-- product_parent: integer (nullable = true)\n",
            " |-- product_title: string (nullable = true)\n",
            " |-- product_category: string (nullable = true)\n",
            " |-- star_rating: integer (nullable = true)\n",
            " |-- helpful_votes: integer (nullable = true)\n",
            " |-- total_votes: integer (nullable = true)\n",
            " |-- vine: string (nullable = true)\n",
            " |-- verified_purchase: string (nullable = true)\n",
            " |-- review_headline: string (nullable = true)\n",
            " |-- review_body: string (nullable = true)\n",
            " |-- review_date: date (nullable = true)\n",
            "\n"
          ]
        }
      ]
    },
    {
      "cell_type": "code",
      "source": [
        "df_v3 = df_v2.drop(\"marketplace\", \"product_category\", \"verified_purchase\", \"review_headline\", \"review_body\")\n",
        "df_v3.show()"
      ],
      "metadata": {
        "colab": {
          "base_uri": "https://localhost:8080/"
        },
        "id": "omouUzyY25gh",
        "outputId": "85d084d2-c617-4ae4-bb61-11b9be024258"
      },
      "execution_count": null,
      "outputs": [
        {
          "output_type": "stream",
          "name": "stdout",
          "text": [
            "+-----------+--------------+----------+--------------+--------------------+-----------+-------------+-----------+----+-----------+\n",
            "|customer_id|     review_id|product_id|product_parent|       product_title|star_rating|helpful_votes|total_votes|vine|review_date|\n",
            "+-----------+--------------+----------+--------------+--------------------+-----------+-------------+-----------+----+-----------+\n",
            "|   10883775|R100C51VV2VHDO|B00TU1DE1M|     852458999|           Acid Rain|          5|            0|          0|   N| 2015-03-26|\n",
            "|   19784609|R100JA85U1VLS2|B00136PPVO|      26005784|A Little Bit (Alb...|          5|            0|          0|   N| 2012-10-11|\n",
            "|   34449099|R10124X73KCB3Y|B0085LHUCC|     599118673|See You In September|          5|            0|          0|   N| 2013-12-23|\n",
            "|   21317917|R10176O229WK9C|B000U8O4WM|     151883093|    Caribbean Breeze|          5|            1|          1|   N| 2014-07-01|\n",
            "|   11981312|R1034NZ7GBLAGL|B004LY53SU|     884755125|           Yo No Fui|          5|            0|          0|   N| 2015-08-06|\n",
            "|   12549169|R103XSHUPLDKLS|B00GBCMW9S|     530484605|The Marshall Math...|          5|            3|          5|   N| 2013-11-09|\n",
            "|   16700850| R104P6WTTR8IT|B006YJMWRU|     169114284|King Of Wishful T...|          5|            0|          0|   N| 2012-10-07|\n",
            "|   17768040|R104Y1XZNVZV3N|B000YGK9N8|     372899912|You Can't Fix Stupid|          4|            0|          0|   N| 2014-10-14|\n",
            "|   14681083|R1078H2CWGRBFB|B0013HB6SE|     686465368|The Wabash Cannon...|          5|            0|          0|   N| 2015-08-14|\n",
            "|   17267946|R107D1FGJPDHNM|B001NTI8WY|     712339004|Weird Science (Al...|          5|            0|          0|   N| 2015-08-09|\n",
            "|   14240411|R1089QB3DHU7L7|B00138ID7U|     750101767|  How Great Thou Art|          2|            0|          0|   N| 2013-12-30|\n",
            "|   43738799|R108HHSB8V0WB3|B00ECJ7KAS|     514435493|O.M.O (Own My Own...|          5|            0|          0|   N| 2013-08-29|\n",
            "|    5766233|R109AS4NXHR3JK|B0096RLJTY|      64548631|     House Of Groove|          5|            0|          0|   N| 2015-03-15|\n",
            "|   43022427|R10AQSQ9779IDI|B0031YEBGG|     727646014|Santa Claus Is Co...|          5|            0|          0|   N| 2015-01-02|\n",
            "|   13135452|R10AT7QFCZGH5O|B00A8AFP66|      73123416|Heart Of The Univ...|          5|            0|          0|   N| 2015-04-30|\n",
            "|   28646969|R10C87L9TAYH5B|B004JENU50|     292208660|        Lakota Tears|          5|            0|          0|   N| 2014-07-30|\n",
            "|   52516798|R10F56WV28FKLL|B0028EKUR4|     781217077|       The Magic Key|          5|            0|          0|   N| 2012-04-14|\n",
            "|   33248516|R10FADC45WQ9L2|B00906I49E|     955920573|         Human Being|          4|            0|          0|   N| 2013-01-27|\n",
            "|   32415973|R10FEXC5R0HZZK|B00EZ2FBVC|     887347416|Connecting With Y...|          3|            6|         12|   N| 2014-06-04|\n",
            "|   45695284|R10GF7M9Y2WMFJ|B006GBEJRW|     604277961|          The Teaser|          5|            2|          2|   N| 2011-12-09|\n",
            "+-----------+--------------+----------+--------------+--------------------+-----------+-------------+-----------+----+-----------+\n",
            "only showing top 20 rows\n",
            "\n"
          ]
        }
      ]
    },
    {
      "cell_type": "code",
      "source": [
        "df_v3.printSchema()"
      ],
      "metadata": {
        "colab": {
          "base_uri": "https://localhost:8080/"
        },
        "id": "GU4A-oCt3Rj_",
        "outputId": "bab98fc1-cadb-4449-a120-7b36dbd7bb85"
      },
      "execution_count": null,
      "outputs": [
        {
          "output_type": "stream",
          "name": "stdout",
          "text": [
            "root\n",
            " |-- customer_id: integer (nullable = true)\n",
            " |-- review_id: string (nullable = true)\n",
            " |-- product_id: string (nullable = true)\n",
            " |-- product_parent: integer (nullable = true)\n",
            " |-- product_title: string (nullable = true)\n",
            " |-- star_rating: integer (nullable = true)\n",
            " |-- helpful_votes: integer (nullable = true)\n",
            " |-- total_votes: integer (nullable = true)\n",
            " |-- vine: string (nullable = true)\n",
            " |-- review_date: date (nullable = true)\n",
            "\n"
          ]
        }
      ]
    },
    {
      "cell_type": "code",
      "source": [
        "#Customer Table\n",
        "\n",
        "df_v4 = df_v3.groupBy(\"customer_id\").count()\n",
        "customer=df_v4.withColumnRenamed(\"count\", \"customer_count\")\n",
        "customer.show()\n"
      ],
      "metadata": {
        "colab": {
          "base_uri": "https://localhost:8080/"
        },
        "id": "3CRNzfVC3iS8",
        "outputId": "a46f1341-6f32-48a6-fb8d-801ae6f7eaf8"
      },
      "execution_count": null,
      "outputs": [
        {
          "output_type": "stream",
          "name": "stdout",
          "text": [
            "+-----------+--------------+\n",
            "|customer_id|customer_count|\n",
            "+-----------+--------------+\n",
            "|   15293432|             3|\n",
            "|   17022872|            10|\n",
            "|   14206265|            78|\n",
            "|   14202452|             1|\n",
            "|   14563706|             1|\n",
            "|   36528522|             7|\n",
            "|   43783816|            18|\n",
            "|   36169975|             1|\n",
            "|   48335968|           134|\n",
            "|   33144642|             5|\n",
            "|   21880591|             1|\n",
            "|   34196920|             3|\n",
            "|   49352251|             1|\n",
            "|   51343298|             1|\n",
            "|    7418862|             1|\n",
            "|   52129256|             7|\n",
            "|   51803438|             4|\n",
            "|   23691759|             1|\n",
            "|   35033769|             7|\n",
            "|   19108371|             4|\n",
            "+-----------+--------------+\n",
            "only showing top 20 rows\n",
            "\n"
          ]
        }
      ]
    },
    {
      "cell_type": "code",
      "source": [
        "# Review ID Table\n",
        "review_id_table = df_v3.select([\"review_id\", \"customer_id\", \"product_id\", \"product_parent\", \"review_date\" ])\n",
        "review_id_table.show()"
      ],
      "metadata": {
        "colab": {
          "base_uri": "https://localhost:8080/"
        },
        "id": "Cdbh08jD4eiw",
        "outputId": "e22ecb81-ff72-4726-8bc9-8054198f2c05"
      },
      "execution_count": null,
      "outputs": [
        {
          "output_type": "stream",
          "name": "stdout",
          "text": [
            "+--------------+-----------+----------+--------------+-----------+\n",
            "|     review_id|customer_id|product_id|product_parent|review_date|\n",
            "+--------------+-----------+----------+--------------+-----------+\n",
            "|R100C51VV2VHDO|   10883775|B00TU1DE1M|     852458999| 2015-03-26|\n",
            "|R100JA85U1VLS2|   19784609|B00136PPVO|      26005784| 2012-10-11|\n",
            "|R10124X73KCB3Y|   34449099|B0085LHUCC|     599118673| 2013-12-23|\n",
            "|R10176O229WK9C|   21317917|B000U8O4WM|     151883093| 2014-07-01|\n",
            "|R1034NZ7GBLAGL|   11981312|B004LY53SU|     884755125| 2015-08-06|\n",
            "|R103XSHUPLDKLS|   12549169|B00GBCMW9S|     530484605| 2013-11-09|\n",
            "| R104P6WTTR8IT|   16700850|B006YJMWRU|     169114284| 2012-10-07|\n",
            "|R104Y1XZNVZV3N|   17768040|B000YGK9N8|     372899912| 2014-10-14|\n",
            "|R1078H2CWGRBFB|   14681083|B0013HB6SE|     686465368| 2015-08-14|\n",
            "|R107D1FGJPDHNM|   17267946|B001NTI8WY|     712339004| 2015-08-09|\n",
            "|R1089QB3DHU7L7|   14240411|B00138ID7U|     750101767| 2013-12-30|\n",
            "|R108HHSB8V0WB3|   43738799|B00ECJ7KAS|     514435493| 2013-08-29|\n",
            "|R109AS4NXHR3JK|    5766233|B0096RLJTY|      64548631| 2015-03-15|\n",
            "|R10AQSQ9779IDI|   43022427|B0031YEBGG|     727646014| 2015-01-02|\n",
            "|R10AT7QFCZGH5O|   13135452|B00A8AFP66|      73123416| 2015-04-30|\n",
            "|R10C87L9TAYH5B|   28646969|B004JENU50|     292208660| 2014-07-30|\n",
            "|R10F56WV28FKLL|   52516798|B0028EKUR4|     781217077| 2012-04-14|\n",
            "|R10FADC45WQ9L2|   33248516|B00906I49E|     955920573| 2013-01-27|\n",
            "|R10FEXC5R0HZZK|   32415973|B00EZ2FBVC|     887347416| 2014-06-04|\n",
            "|R10GF7M9Y2WMFJ|   45695284|B006GBEJRW|     604277961| 2011-12-09|\n",
            "+--------------+-----------+----------+--------------+-----------+\n",
            "only showing top 20 rows\n",
            "\n"
          ]
        }
      ]
    },
    {
      "cell_type": "code",
      "source": [
        "#Products Table\n",
        "products = df_v3.select([\"product_id\", \"product_title\"])\n",
        "products.show()"
      ],
      "metadata": {
        "colab": {
          "base_uri": "https://localhost:8080/"
        },
        "id": "PFoEjIka4zJn",
        "outputId": "7bc0ee72-0fe8-44af-c6be-e325eac6e59c"
      },
      "execution_count": null,
      "outputs": [
        {
          "output_type": "stream",
          "name": "stdout",
          "text": [
            "+----------+--------------------+\n",
            "|product_id|       product_title|\n",
            "+----------+--------------------+\n",
            "|B00TU1DE1M|           Acid Rain|\n",
            "|B00136PPVO|A Little Bit (Alb...|\n",
            "|B0085LHUCC|See You In September|\n",
            "|B000U8O4WM|    Caribbean Breeze|\n",
            "|B004LY53SU|           Yo No Fui|\n",
            "|B00GBCMW9S|The Marshall Math...|\n",
            "|B006YJMWRU|King Of Wishful T...|\n",
            "|B000YGK9N8|You Can't Fix Stupid|\n",
            "|B0013HB6SE|The Wabash Cannon...|\n",
            "|B001NTI8WY|Weird Science (Al...|\n",
            "|B00138ID7U|  How Great Thou Art|\n",
            "|B00ECJ7KAS|O.M.O (Own My Own...|\n",
            "|B0096RLJTY|     House Of Groove|\n",
            "|B0031YEBGG|Santa Claus Is Co...|\n",
            "|B00A8AFP66|Heart Of The Univ...|\n",
            "|B004JENU50|        Lakota Tears|\n",
            "|B0028EKUR4|       The Magic Key|\n",
            "|B00906I49E|         Human Being|\n",
            "|B00EZ2FBVC|Connecting With Y...|\n",
            "|B006GBEJRW|          The Teaser|\n",
            "+----------+--------------------+\n",
            "only showing top 20 rows\n",
            "\n"
          ]
        }
      ]
    },
    {
      "cell_type": "code",
      "source": [
        "#Vine Table\n",
        "vine = df_v3.select([\"review_id\", \"star_rating\", \"helpful_votes\", \"total_votes\", \"vine\" ])\n",
        "vine.show()"
      ],
      "metadata": {
        "colab": {
          "base_uri": "https://localhost:8080/"
        },
        "id": "aHtfXEem46nn",
        "outputId": "e684b35d-10db-47e7-c34c-9521542e0df0"
      },
      "execution_count": null,
      "outputs": [
        {
          "output_type": "stream",
          "name": "stdout",
          "text": [
            "+--------------+-----------+-------------+-----------+----+\n",
            "|     review_id|star_rating|helpful_votes|total_votes|vine|\n",
            "+--------------+-----------+-------------+-----------+----+\n",
            "|R100C51VV2VHDO|          5|            0|          0|   N|\n",
            "|R100JA85U1VLS2|          5|            0|          0|   N|\n",
            "|R10124X73KCB3Y|          5|            0|          0|   N|\n",
            "|R10176O229WK9C|          5|            1|          1|   N|\n",
            "|R1034NZ7GBLAGL|          5|            0|          0|   N|\n",
            "|R103XSHUPLDKLS|          5|            3|          5|   N|\n",
            "| R104P6WTTR8IT|          5|            0|          0|   N|\n",
            "|R104Y1XZNVZV3N|          4|            0|          0|   N|\n",
            "|R1078H2CWGRBFB|          5|            0|          0|   N|\n",
            "|R107D1FGJPDHNM|          5|            0|          0|   N|\n",
            "|R1089QB3DHU7L7|          2|            0|          0|   N|\n",
            "|R108HHSB8V0WB3|          5|            0|          0|   N|\n",
            "|R109AS4NXHR3JK|          5|            0|          0|   N|\n",
            "|R10AQSQ9779IDI|          5|            0|          0|   N|\n",
            "|R10AT7QFCZGH5O|          5|            0|          0|   N|\n",
            "|R10C87L9TAYH5B|          5|            0|          0|   N|\n",
            "|R10F56WV28FKLL|          5|            0|          0|   N|\n",
            "|R10FADC45WQ9L2|          4|            0|          0|   N|\n",
            "|R10FEXC5R0HZZK|          3|            6|         12|   N|\n",
            "|R10GF7M9Y2WMFJ|          5|            2|          2|   N|\n",
            "+--------------+-----------+-------------+-----------+----+\n",
            "only showing top 20 rows\n",
            "\n"
          ]
        }
      ]
    },
    {
      "cell_type": "code",
      "source": [
        "# Configuration for RDS instance\n",
        "mode=\"append\"\n",
        "jdbc_url = \"jdbc:postgresql://<insert endpoint>:5432/my_data_class_db\"\n",
        "config = {\"user\":\"postgres\",\n",
        "          \"password\": \"<postgres>\",\n",
        "          \"driver\":\"org.postgresql.Driver\"}"
      ],
      "metadata": {
        "id": "AVb_263647Uh"
      },
      "execution_count": null,
      "outputs": []
    },
    {
      "cell_type": "code",
      "source": [
        "# Write DataFrame to table (Vine)\n",
        "\n",
        "vine.write.jdbc(url=jdbc_url, table=\"vine\", mode=mode, properties=config)"
      ],
      "metadata": {
        "id": "Q_zrV9uI49Me"
      },
      "execution_count": null,
      "outputs": []
    },
    {
      "cell_type": "code",
      "source": [
        "# Write  DataFrame to table (Customer)\n",
        "\n",
        "\n",
        "customer.write.jdbc(url=jdbc_url, table=\"customer\", mode=mode, properties=config)"
      ],
      "metadata": {
        "id": "WTEFrG2y4_qo"
      },
      "execution_count": null,
      "outputs": []
    },
    {
      "cell_type": "code",
      "source": [
        "# Write  DataFrame to table (Review ID)\n",
        "\n",
        "\n",
        "review_id_table.write.jdbc(url=jdbc_url, table=\"review_id_table\", mode=mode, properties=config)"
      ],
      "metadata": {
        "id": "mn0tp0fX5BMK"
      },
      "execution_count": null,
      "outputs": []
    },
    {
      "cell_type": "code",
      "source": [
        "# Write  DataFrame to table (Products)\n",
        "\n",
        "products.write.jdbc(url=jdbc_url, table=\"products\", mode=mode, properties=config)"
      ],
      "metadata": {
        "id": "NpWv25N_5R9Q"
      },
      "execution_count": null,
      "outputs": []
    }
  ]
}