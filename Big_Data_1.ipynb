{
  "nbformat": 4,
  "nbformat_minor": 0,
  "metadata": {
    "colab": {
      "name": "Big_Data_1.ipynb",
      "provenance": [],
      "collapsed_sections": [],
      "authorship_tag": "ABX9TyOmcURrLYTVYb3GB0JkVc+r",
      "include_colab_link": true
    },
    "kernelspec": {
      "name": "python3",
      "display_name": "Python 3"
    },
    "language_info": {
      "name": "python"
    }
  },
  "cells": [
    {
      "cell_type": "markdown",
      "metadata": {
        "id": "view-in-github",
        "colab_type": "text"
      },
      "source": [
        "<a href=\"https://colab.research.google.com/github/samuelj7/big-data-challenge/blob/main/Big_Data_1.ipynb\" target=\"_parent\"><img src=\"https://colab.research.google.com/assets/colab-badge.svg\" alt=\"Open In Colab\"/></a>"
      ]
    },
    {
      "cell_type": "code",
      "execution_count": null,
      "metadata": {
        "id": "Y-9v5Agv-KEa"
      },
      "outputs": [],
      "source": [
        "#url = \"https://s3.amazonaws.com/amazon-reviews-pds/tsv/amazon_reviews_us_Video_v1_00.tsv.gz\""
      ]
    },
    {
      "cell_type": "code",
      "source": [
        "import os\n",
        "# Find the latest version of spark 3.0  from http://www.apache.org/dist/spark/ and enter as the spark version\n",
        "# For example:\n",
        "# spark_version = 'spark-3.0.3'\n",
        "spark_version = 'spark-3.0.3'\n",
        "os.environ['SPARK_VERSION']=spark_version\n",
        "\n",
        "# Install Spark and Java\n",
        "!apt-get update\n",
        "!apt-get install openjdk-8-jdk-headless -qq > /dev/null\n",
        "!wget -q http://www.apache.org/dist/spark/$SPARK_VERSION/$SPARK_VERSION-bin-hadoop2.7.tgz\n",
        "!tar xf $SPARK_VERSION-bin-hadoop2.7.tgz\n",
        "!pip install -q findspark\n",
        "\n",
        "# Set Environment Variables\n",
        "os.environ[\"JAVA_HOME\"] = \"/usr/lib/jvm/java-8-openjdk-amd64\"\n",
        "os.environ[\"SPARK_HOME\"] = f\"/content/{spark_version}-bin-hadoop2.7\"\n",
        "\n",
        "# Start a SparkSession\n",
        "import findspark\n",
        "findspark.init()"
      ],
      "metadata": {
        "colab": {
          "base_uri": "https://localhost:8080/"
        },
        "id": "KarIhBkyFHPZ",
        "outputId": "8c7e3c4f-921a-4b07-b9de-9474b977602a"
      },
      "execution_count": null,
      "outputs": [
        {
          "output_type": "stream",
          "name": "stdout",
          "text": [
            "\r0% [Working]\r            \rHit:1 https://developer.download.nvidia.com/compute/cuda/repos/ubuntu1804/x86_64  InRelease\n",
            "Hit:2 https://cloud.r-project.org/bin/linux/ubuntu bionic-cran40/ InRelease\n",
            "Hit:3 http://security.ubuntu.com/ubuntu bionic-security InRelease\n",
            "Ign:4 https://developer.download.nvidia.com/compute/machine-learning/repos/ubuntu1804/x86_64  InRelease\n",
            "Hit:5 https://developer.download.nvidia.com/compute/machine-learning/repos/ubuntu1804/x86_64  Release\n",
            "Hit:6 http://ppa.launchpad.net/c2d4u.team/c2d4u4.0+/ubuntu bionic InRelease\n",
            "Hit:7 http://archive.ubuntu.com/ubuntu bionic InRelease\n",
            "Hit:8 http://archive.ubuntu.com/ubuntu bionic-updates InRelease\n",
            "Hit:10 http://ppa.launchpad.net/cran/libgit2/ubuntu bionic InRelease\n",
            "Hit:11 http://archive.ubuntu.com/ubuntu bionic-backports InRelease\n",
            "Hit:12 http://ppa.launchpad.net/deadsnakes/ppa/ubuntu bionic InRelease\n",
            "Hit:13 http://ppa.launchpad.net/graphics-drivers/ppa/ubuntu bionic InRelease\n",
            "Reading package lists... Done\n"
          ]
        }
      ]
    },
    {
      "cell_type": "code",
      "source": [
        "#Make connection to postgres\n",
        "!wget https://jdbc.postgresql.org/download/postgresql-42.2.9.jar"
      ],
      "metadata": {
        "id": "7mn8eBrVO9nv"
      },
      "execution_count": null,
      "outputs": []
    },
    {
      "cell_type": "code",
      "source": [
        "from pyspark.sql import SparkSession\n",
        "spark = SparkSession.builder.appName(\"CloudETL\").config(\"spark.driver.extraClassPath\",\"/content/postgresql-42.2.9.jar\").getOrCreate()"
      ],
      "metadata": {
        "id": "TwMg7x-9PuR7"
      },
      "execution_count": null,
      "outputs": []
    },
    {
      "cell_type": "code",
      "source": [
        "from pyspark import SparkFiles\n",
        "# Load in .csv from S3 into a DataFrame\n",
        "url = \"https://s3.amazonaws.com/amazon-reviews-pds/tsv/amazon_reviews_us_Video_v1_00.tsv.gz\"\n",
        "spark.sparkContext.addFile(url)\n",
        "\n",
        "df = spark.read.option('header', 'true').csv(SparkFiles.get(\"amazon_reviews_us_Video_v1_00.tsv.gz\"), inferSchema=True, sep='\\t', timestampFormat=\"mm/dd/yy\")\n",
        "df.show(10)"
      ],
      "metadata": {
        "colab": {
          "base_uri": "https://localhost:8080/"
        },
        "id": "HrURUYwyP6ht",
        "outputId": "dce70d41-0321-4cb4-a548-3c900a42a8bb"
      },
      "execution_count": null,
      "outputs": [
        {
          "output_type": "stream",
          "name": "stdout",
          "text": [
            "+-----------+-----------+--------------+----------+--------------+--------------------+----------------+-----------+-------------+-----------+----+-----------------+--------------------+--------------------+-----------+\n",
            "|marketplace|customer_id|     review_id|product_id|product_parent|       product_title|product_category|star_rating|helpful_votes|total_votes|vine|verified_purchase|     review_headline|         review_body|review_date|\n",
            "+-----------+-----------+--------------+----------+--------------+--------------------+----------------+-----------+-------------+-----------+----+-----------------+--------------------+--------------------+-----------+\n",
            "|         US|   49033728|R1P1G5KZ05H6RD|6302503213|     748506413|The Night They Sa...|           Video|          5|            0|          0|   N|                Y|    Very satisfied!!|Fast shipping. Pl...| 2015-08-31|\n",
            "|         US|   17857748|R106N066IUN8ZV|B000059PET|     478710180|Hamlet / Kline, N...|           Video|          5|            0|          0|   N|                Y|The most talented...|Kevin Kline is th...| 2015-08-31|\n",
            "|         US|   25551507| R7WTAA1S5O7D9|0788812807|     981002815|Nascar Dual Power...|           Video|          4|            0|          0|   N|                Y|          Four Stars|         great movie| 2015-08-31|\n",
            "|         US|   21025041|R32HFMVWLYOYJK|6302509939|     333219811|The Man From U.N....|           Video|          5|            0|          0|   N|                Y|          Five Stars|i love the martin...| 2015-08-31|\n",
            "|         US|   40943563| RWT3H6HBVAL6G|B00JENS2BI|     538101194|Playboy Video Par...|           Video|          3|            0|          0|   N|                N|HOT women, dumb j...|Y'know what this ...| 2015-08-31|\n",
            "|         US|   17013969|R1S3T3GWUGQTW7|6305761302|     716303278|Cabaret Balkan - ...|           Video|          5|            0|          0|   N|                Y|          Five Stars|Wonderfully accur...| 2015-08-31|\n",
            "|         US|   47611685|R3R0QYHA800REE|6300157555|     134996462|Wrinkles:in Need ...|           Video|          4|            0|          0|   N|                Y|          Four Stars|In great shape fo...| 2015-08-31|\n",
            "|         US|   35680737|R1FR0EQPHPW5NM|6300189570|     498116870|Ladies Club,the [...|           Video|          4|            1|          2|   N|                N|          Four Stars|When are they goi...| 2015-08-31|\n",
            "|         US|   10747909| RGORN81H45NI7|B000SXQ5US|      77519275|The Campitelli Ad...|           Video|          5|            1|          1|   N|                Y|I was thrilled to...|This is the best ...| 2015-08-31|\n",
            "|         US|     126341|R1CNYN4ABNOJSU|B00008F22G|     917778300|Return of the Jed...|           Video|          5|            0|          0|   N|                Y|          Five Stars|I'm very pleased ...| 2015-08-31|\n",
            "+-----------+-----------+--------------+----------+--------------+--------------------+----------------+-----------+-------------+-----------+----+-----------------+--------------------+--------------------+-----------+\n",
            "only showing top 10 rows\n",
            "\n"
          ]
        }
      ]
    },
    {
      "cell_type": "code",
      "source": [
        "print(df.count())\n",
        "df = df.dropna()\n",
        "print(df.count())\n",
        "df = df.dropDuplicates()\n",
        "print(df.count())"
      ],
      "metadata": {
        "colab": {
          "base_uri": "https://localhost:8080/"
        },
        "id": "PiWgP6yWRrbI",
        "outputId": "606b2a86-0d9c-4bec-abf2-c68daf01627f"
      },
      "execution_count": null,
      "outputs": [
        {
          "output_type": "stream",
          "name": "stdout",
          "text": [
            "380604\n",
            "380575\n",
            "380575\n"
          ]
        }
      ]
    },
    {
      "cell_type": "code",
      "source": [
        "df.printSchema()"
      ],
      "metadata": {
        "colab": {
          "base_uri": "https://localhost:8080/"
        },
        "id": "TId3EmfTVYdS",
        "outputId": "33ebadd7-7c83-4ae0-cf41-86dadd3ffbb7"
      },
      "execution_count": null,
      "outputs": [
        {
          "output_type": "stream",
          "name": "stdout",
          "text": [
            "root\n",
            " |-- marketplace: string (nullable = true)\n",
            " |-- customer_id: integer (nullable = true)\n",
            " |-- review_id: string (nullable = true)\n",
            " |-- product_id: string (nullable = true)\n",
            " |-- product_parent: integer (nullable = true)\n",
            " |-- product_title: string (nullable = true)\n",
            " |-- product_category: string (nullable = true)\n",
            " |-- star_rating: integer (nullable = true)\n",
            " |-- helpful_votes: integer (nullable = true)\n",
            " |-- total_votes: integer (nullable = true)\n",
            " |-- vine: string (nullable = true)\n",
            " |-- verified_purchase: string (nullable = true)\n",
            " |-- review_headline: string (nullable = true)\n",
            " |-- review_body: string (nullable = true)\n",
            " |-- review_date: string (nullable = true)\n",
            "\n"
          ]
        }
      ]
    },
    {
      "cell_type": "code",
      "source": [
        "from pyspark.sql.functions import col"
      ],
      "metadata": {
        "id": "dHIA66QlVahr"
      },
      "execution_count": null,
      "outputs": []
    },
    {
      "cell_type": "code",
      "source": [
        "from pyspark.sql.functions import to_date"
      ],
      "metadata": {
        "id": "_dyVwP7WemsR"
      },
      "execution_count": null,
      "outputs": []
    },
    {
      "cell_type": "code",
      "source": [
        "df_v2 = df.withColumn('review_date', to_date('review_date', 'yyyy-MM-dd'))\n",
        "df_v2.show()"
      ],
      "metadata": {
        "colab": {
          "base_uri": "https://localhost:8080/"
        },
        "id": "1_NbXRpKfWnh",
        "outputId": "4229ae49-aedd-4837-c0e9-542e73010768"
      },
      "execution_count": null,
      "outputs": [
        {
          "output_type": "stream",
          "name": "stdout",
          "text": [
            "+-----------+-----------+--------------+----------+--------------+--------------------+----------------+-----------+-------------+-----------+----+-----------------+--------------------+--------------------+-----------+\n",
            "|marketplace|customer_id|     review_id|product_id|product_parent|       product_title|product_category|star_rating|helpful_votes|total_votes|vine|verified_purchase|     review_headline|         review_body|review_date|\n",
            "+-----------+-----------+--------------+----------+--------------+--------------------+----------------+-----------+-------------+-----------+----+-----------------+--------------------+--------------------+-----------+\n",
            "|         US|   39107297|R1000G235G84VS|6304428456|     619227014|      Daylight [VHS]|           Video|          5|            0|          7|   N|                N|              laneme|fast shipping tap...| 2002-07-30|\n",
            "|         US|   46346809|R103NDNKDVKGYD|B00AVPYKFU|     631259326|Blank VHS Tape So...|           Video|          5|            0|          0|   N|                Y|          Five Stars|delivery fast and...| 2015-04-24|\n",
            "|         US|   42564085|R1068F9HHXTYR5|6304898592|     478267204|Baby's First Impr...|           Video|          1|            0|          0|   N|                N|NOT a good video ...|I purchased the B...| 2004-09-17|\n",
            "|         US|   46499989|R10D7QYJVUDBJI|1574924494|     716139900|   The Odyssey [VHS]|           Video|          3|            0|          1|   N|                N|          Excellent!|In Social Studies...| 2001-01-02|\n",
            "|         US|   50133272|R10HY4HIY7HLIY|6301980506|     557595408|Strike Up the Ban...|           Video|          5|            0|          0|   N|                N|Light-hearted and...|This is a classic...| 2009-11-15|\n",
            "|         US|   51803143|R10NGF2CDJZBND|B00007M5KS|     544248946|The Gathering Sto...|           Video|          5|           61|         63|   N|                N|Albert Finney is ...|Rarely does an ac...| 2004-04-22|\n",
            "|         US|   44872476|R10OUGP1VVK7JG|6301906500|     103981020|The Herculoids, V...|           Video|          4|           10|         10|   N|                Y|RATES WITH THE BE...|The Herculoids ar...| 2005-09-21|\n",
            "|         US|   49936699|R10OVB2XLAB5YA|B00005PJ7L|      86419093|Erotic Rites of C...|           Video|          5|            2|         12|   N|                N|You can 'count' o...|Fangs a lot for d...| 2001-10-29|\n",
            "|         US|   52049485|R10S1BI2PXII2T|6303925332|     812288877|Timon & Pumbaa: G...|           Video|          4|            1|          2|   N|                N|very entertaining...|they will sit tra...| 2004-04-13|\n",
            "|         US|   50205849|R10TIKWPEVXNG7|B00005BCNZ|     908216169| Mystery Ranch [VHS]|           Video|          5|            0|          0|   N|                N|Tom Tyler  B-West...|VCI Entertainment...| 2006-11-15|\n",
            "|         US|   52415749|R10VND2YDQVKET|B00000FEJW|     324641956|Troublesome Creek...|           Video|          5|            2|          2|   N|                N|A Touching Heartl...|This touching doc...| 2001-06-11|\n",
            "|         US|   51962520|R10X37FJGANCT7|0792152328|     764225016|       Titanic [VHS]|           Video|          1|            7|         13|   N|                N|This is the worst...|I have had an une...| 1999-10-18|\n",
            "|         US|   44527841|R10YNLQ6Y1R161|0790737442|     269345798|Lethal Weapon 2 [...|           Video|          5|            0|          1|   N|                N|Can Sequels be as...|Of course sequels...| 2003-02-05|\n",
            "|         US|   32315206|R110565ZKI140J|B0000V46RW|       2726139|    Wrong Turn [VHS]|           Video|          4|            2|          2|   N|                N|   Wrong Turn (2003)|P>Delightfully sc...| 2004-05-15|\n",
            "|         US|   32111200|R1115JWTLNM3V0|B00000F921|     399556767|   Straight Up [VHS]|           Video|          3|            0|          0|   N|                Y|A Good Anti-drug ...|I really bought t...| 2014-09-20|\n",
            "|         US|   50933315|R1117HP3M7IP7Y|6304493053|     788282639|Incredible Journe...|           Video|          5|           14|         17|   N|                N|        Great movie!|Very warm, fun, a...| 2001-09-28|\n",
            "|         US|   44864597|R1121WS8SNWVPU|B000006D2X|     942285978|      Quilombo [VHS]|           Video|          5|           12|         14|   N|                N|&quot;Struggle of...|Stunningly beauti...| 2001-10-13|\n",
            "|         US|   51161429|R114AFFCNGTE4B|6303379133|     919848179|The Iliad (Homer)...|           Video|          1|           57|         59|   N|                N|Don't buy &quot;T...|Don't be fooled, ...| 2000-01-14|\n",
            "|         US|   18289264|R11BH5Y4MNYCVU|B0002CDM7E|     875259027|The Original 29 M...|           Video|          5|            4|          4|   N|                N|You can't beat ol...|Excellent workout...| 2008-10-09|\n",
            "|         US|   44213987|R11BWLF5CHU718|6303451438|     286933225|Knock on Any Door...|           Video|          5|            5|          7|   N|                Y|     Before Its Time|The dialogue and ...| 2009-01-02|\n",
            "+-----------+-----------+--------------+----------+--------------+--------------------+----------------+-----------+-------------+-----------+----+-----------------+--------------------+--------------------+-----------+\n",
            "only showing top 20 rows\n",
            "\n"
          ]
        }
      ]
    },
    {
      "cell_type": "code",
      "source": [
        "df_v2.printSchema()"
      ],
      "metadata": {
        "colab": {
          "base_uri": "https://localhost:8080/"
        },
        "id": "EelWc6X0gUBh",
        "outputId": "d06d62cd-1f7b-4f54-8cf0-758fddefd79e"
      },
      "execution_count": null,
      "outputs": [
        {
          "output_type": "stream",
          "name": "stdout",
          "text": [
            "root\n",
            " |-- marketplace: string (nullable = true)\n",
            " |-- customer_id: integer (nullable = true)\n",
            " |-- review_id: string (nullable = true)\n",
            " |-- product_id: string (nullable = true)\n",
            " |-- product_parent: integer (nullable = true)\n",
            " |-- product_title: string (nullable = true)\n",
            " |-- product_category: string (nullable = true)\n",
            " |-- star_rating: integer (nullable = true)\n",
            " |-- helpful_votes: integer (nullable = true)\n",
            " |-- total_votes: integer (nullable = true)\n",
            " |-- vine: string (nullable = true)\n",
            " |-- verified_purchase: string (nullable = true)\n",
            " |-- review_headline: string (nullable = true)\n",
            " |-- review_body: string (nullable = true)\n",
            " |-- review_date: date (nullable = true)\n",
            "\n"
          ]
        }
      ]
    },
    {
      "cell_type": "code",
      "source": [
        "df_v3 = df_v2.drop(\"marketplace\", \"product_category\", \"verified_purchase\", \"review_headline\", \"review_body\")\n",
        "df_v3.show()"
      ],
      "metadata": {
        "colab": {
          "base_uri": "https://localhost:8080/"
        },
        "id": "jLtQP4X4g4mp",
        "outputId": "3d3c9adb-c2fb-413f-f492-244ff5833c73"
      },
      "execution_count": null,
      "outputs": [
        {
          "output_type": "stream",
          "name": "stdout",
          "text": [
            "+-----------+--------------+----------+--------------+--------------------+-----------+-------------+-----------+----+-----------+\n",
            "|customer_id|     review_id|product_id|product_parent|       product_title|star_rating|helpful_votes|total_votes|vine|review_date|\n",
            "+-----------+--------------+----------+--------------+--------------------+-----------+-------------+-----------+----+-----------+\n",
            "|   39107297|R1000G235G84VS|6304428456|     619227014|      Daylight [VHS]|          5|            0|          7|   N| 2002-07-30|\n",
            "|   46346809|R103NDNKDVKGYD|B00AVPYKFU|     631259326|Blank VHS Tape So...|          5|            0|          0|   N| 2015-04-24|\n",
            "|   42564085|R1068F9HHXTYR5|6304898592|     478267204|Baby's First Impr...|          1|            0|          0|   N| 2004-09-17|\n",
            "|   46499989|R10D7QYJVUDBJI|1574924494|     716139900|   The Odyssey [VHS]|          3|            0|          1|   N| 2001-01-02|\n",
            "|   50133272|R10HY4HIY7HLIY|6301980506|     557595408|Strike Up the Ban...|          5|            0|          0|   N| 2009-11-15|\n",
            "|   51803143|R10NGF2CDJZBND|B00007M5KS|     544248946|The Gathering Sto...|          5|           61|         63|   N| 2004-04-22|\n",
            "|   44872476|R10OUGP1VVK7JG|6301906500|     103981020|The Herculoids, V...|          4|           10|         10|   N| 2005-09-21|\n",
            "|   49936699|R10OVB2XLAB5YA|B00005PJ7L|      86419093|Erotic Rites of C...|          5|            2|         12|   N| 2001-10-29|\n",
            "|   52049485|R10S1BI2PXII2T|6303925332|     812288877|Timon & Pumbaa: G...|          4|            1|          2|   N| 2004-04-13|\n",
            "|   50205849|R10TIKWPEVXNG7|B00005BCNZ|     908216169| Mystery Ranch [VHS]|          5|            0|          0|   N| 2006-11-15|\n",
            "|   52415749|R10VND2YDQVKET|B00000FEJW|     324641956|Troublesome Creek...|          5|            2|          2|   N| 2001-06-11|\n",
            "|   51962520|R10X37FJGANCT7|0792152328|     764225016|       Titanic [VHS]|          1|            7|         13|   N| 1999-10-18|\n",
            "|   44527841|R10YNLQ6Y1R161|0790737442|     269345798|Lethal Weapon 2 [...|          5|            0|          1|   N| 2003-02-05|\n",
            "|   32315206|R110565ZKI140J|B0000V46RW|       2726139|    Wrong Turn [VHS]|          4|            2|          2|   N| 2004-05-15|\n",
            "|   32111200|R1115JWTLNM3V0|B00000F921|     399556767|   Straight Up [VHS]|          3|            0|          0|   N| 2014-09-20|\n",
            "|   50933315|R1117HP3M7IP7Y|6304493053|     788282639|Incredible Journe...|          5|           14|         17|   N| 2001-09-28|\n",
            "|   44864597|R1121WS8SNWVPU|B000006D2X|     942285978|      Quilombo [VHS]|          5|           12|         14|   N| 2001-10-13|\n",
            "|   51161429|R114AFFCNGTE4B|6303379133|     919848179|The Iliad (Homer)...|          1|           57|         59|   N| 2000-01-14|\n",
            "|   18289264|R11BH5Y4MNYCVU|B0002CDM7E|     875259027|The Original 29 M...|          5|            4|          4|   N| 2008-10-09|\n",
            "|   44213987|R11BWLF5CHU718|6303451438|     286933225|Knock on Any Door...|          5|            5|          7|   N| 2009-01-02|\n",
            "+-----------+--------------+----------+--------------+--------------------+-----------+-------------+-----------+----+-----------+\n",
            "only showing top 20 rows\n",
            "\n"
          ]
        }
      ]
    },
    {
      "cell_type": "code",
      "source": [
        "df_v3.printSchema()"
      ],
      "metadata": {
        "colab": {
          "base_uri": "https://localhost:8080/"
        },
        "id": "hofBnomaiV4N",
        "outputId": "dc09f0d6-4b57-4477-bfbc-20263a5deab5"
      },
      "execution_count": null,
      "outputs": [
        {
          "output_type": "stream",
          "name": "stdout",
          "text": [
            "root\n",
            " |-- customer_id: integer (nullable = true)\n",
            " |-- review_id: string (nullable = true)\n",
            " |-- product_id: string (nullable = true)\n",
            " |-- product_parent: integer (nullable = true)\n",
            " |-- product_title: string (nullable = true)\n",
            " |-- star_rating: integer (nullable = true)\n",
            " |-- helpful_votes: integer (nullable = true)\n",
            " |-- total_votes: integer (nullable = true)\n",
            " |-- vine: string (nullable = true)\n",
            " |-- review_date: date (nullable = true)\n",
            "\n"
          ]
        }
      ]
    },
    {
      "cell_type": "code",
      "source": [
        "#Customer Table\n",
        "\n",
        "df_v4 = df_v3.groupBy(\"customer_id\").count()\n",
        "customer=df_v4.withColumnRenamed(\"count\", \"customer_count\")\n",
        "customer.show()\n"
      ],
      "metadata": {
        "colab": {
          "base_uri": "https://localhost:8080/"
        },
        "id": "SfabskUquSHl",
        "outputId": "0fe331b0-8261-4226-835b-df64aa82e53b"
      },
      "execution_count": null,
      "outputs": [
        {
          "output_type": "stream",
          "name": "stdout",
          "text": [
            "+-----------+--------------+\n",
            "|customer_id|customer_count|\n",
            "+-----------+--------------+\n",
            "|   20288432|             2|\n",
            "|   49145342|             2|\n",
            "|   21187650|             2|\n",
            "|   27170594|             1|\n",
            "|   36395157|             5|\n",
            "|   41711141|             1|\n",
            "|   33782391|             1|\n",
            "|   12491275|             1|\n",
            "|   49501007|             2|\n",
            "|   51667424|            61|\n",
            "|   28425084|             1|\n",
            "|   52119549|             1|\n",
            "|   36728400|             1|\n",
            "|   53033948|            15|\n",
            "|   32371281|             4|\n",
            "|   11736558|             2|\n",
            "|   42929754|             1|\n",
            "|   51680053|            48|\n",
            "|   50900268|             1|\n",
            "|   43293705|             1|\n",
            "+-----------+--------------+\n",
            "only showing top 20 rows\n",
            "\n"
          ]
        }
      ]
    },
    {
      "cell_type": "code",
      "source": [
        "# Review ID Table\n",
        "review_id_table = df_v3.select([\"review_id\", \"customer_id\", \"product_id\", \"product_parent\", \"review_date\" ])\n",
        "review_id_table.show()"
      ],
      "metadata": {
        "colab": {
          "base_uri": "https://localhost:8080/"
        },
        "id": "ndfLqqiszIdm",
        "outputId": "0a7b2b00-315a-4885-93b0-a3dd9db22d72"
      },
      "execution_count": null,
      "outputs": [
        {
          "output_type": "stream",
          "name": "stdout",
          "text": [
            "+--------------+-----------+----------+--------------+-----------+\n",
            "|     review_id|customer_id|product_id|product_parent|review_date|\n",
            "+--------------+-----------+----------+--------------+-----------+\n",
            "|R1000G235G84VS|   39107297|6304428456|     619227014| 2002-07-30|\n",
            "|R103NDNKDVKGYD|   46346809|B00AVPYKFU|     631259326| 2015-04-24|\n",
            "|R1068F9HHXTYR5|   42564085|6304898592|     478267204| 2004-09-17|\n",
            "|R10D7QYJVUDBJI|   46499989|1574924494|     716139900| 2001-01-02|\n",
            "|R10HY4HIY7HLIY|   50133272|6301980506|     557595408| 2009-11-15|\n",
            "|R10NGF2CDJZBND|   51803143|B00007M5KS|     544248946| 2004-04-22|\n",
            "|R10OUGP1VVK7JG|   44872476|6301906500|     103981020| 2005-09-21|\n",
            "|R10OVB2XLAB5YA|   49936699|B00005PJ7L|      86419093| 2001-10-29|\n",
            "|R10S1BI2PXII2T|   52049485|6303925332|     812288877| 2004-04-13|\n",
            "|R10TIKWPEVXNG7|   50205849|B00005BCNZ|     908216169| 2006-11-15|\n",
            "|R10VND2YDQVKET|   52415749|B00000FEJW|     324641956| 2001-06-11|\n",
            "|R10X37FJGANCT7|   51962520|0792152328|     764225016| 1999-10-18|\n",
            "|R10YNLQ6Y1R161|   44527841|0790737442|     269345798| 2003-02-05|\n",
            "|R110565ZKI140J|   32315206|B0000V46RW|       2726139| 2004-05-15|\n",
            "|R1115JWTLNM3V0|   32111200|B00000F921|     399556767| 2014-09-20|\n",
            "|R1117HP3M7IP7Y|   50933315|6304493053|     788282639| 2001-09-28|\n",
            "|R1121WS8SNWVPU|   44864597|B000006D2X|     942285978| 2001-10-13|\n",
            "|R114AFFCNGTE4B|   51161429|6303379133|     919848179| 2000-01-14|\n",
            "|R11BH5Y4MNYCVU|   18289264|B0002CDM7E|     875259027| 2008-10-09|\n",
            "|R11BWLF5CHU718|   44213987|6303451438|     286933225| 2009-01-02|\n",
            "+--------------+-----------+----------+--------------+-----------+\n",
            "only showing top 20 rows\n",
            "\n"
          ]
        }
      ]
    },
    {
      "cell_type": "code",
      "source": [
        "#Products Table\n",
        "products = df_v3.select([\"product_id\", \"product_title\"])\n",
        "products.show()"
      ],
      "metadata": {
        "colab": {
          "base_uri": "https://localhost:8080/"
        },
        "id": "bIMEos7Jztdw",
        "outputId": "bde31025-bbc9-4a83-e200-f5e7ec524a05"
      },
      "execution_count": null,
      "outputs": [
        {
          "output_type": "stream",
          "name": "stdout",
          "text": [
            "+----------+--------------------+\n",
            "|product_id|       product_title|\n",
            "+----------+--------------------+\n",
            "|6304428456|      Daylight [VHS]|\n",
            "|B00AVPYKFU|Blank VHS Tape So...|\n",
            "|6304898592|Baby's First Impr...|\n",
            "|1574924494|   The Odyssey [VHS]|\n",
            "|6301980506|Strike Up the Ban...|\n",
            "|B00007M5KS|The Gathering Sto...|\n",
            "|6301906500|The Herculoids, V...|\n",
            "|B00005PJ7L|Erotic Rites of C...|\n",
            "|6303925332|Timon & Pumbaa: G...|\n",
            "|B00005BCNZ| Mystery Ranch [VHS]|\n",
            "|B00000FEJW|Troublesome Creek...|\n",
            "|0792152328|       Titanic [VHS]|\n",
            "|0790737442|Lethal Weapon 2 [...|\n",
            "|B0000V46RW|    Wrong Turn [VHS]|\n",
            "|B00000F921|   Straight Up [VHS]|\n",
            "|6304493053|Incredible Journe...|\n",
            "|B000006D2X|      Quilombo [VHS]|\n",
            "|6303379133|The Iliad (Homer)...|\n",
            "|B0002CDM7E|The Original 29 M...|\n",
            "|6303451438|Knock on Any Door...|\n",
            "+----------+--------------------+\n",
            "only showing top 20 rows\n",
            "\n"
          ]
        }
      ]
    },
    {
      "cell_type": "code",
      "source": [
        "#Vine Table\n",
        "vine = df_v3.select([\"review_id\", \"star_rating\", \"helpful_votes\", \"total_votes\", \"vine\" ])\n",
        "vine.show()"
      ],
      "metadata": {
        "colab": {
          "base_uri": "https://localhost:8080/"
        },
        "id": "2rGdyDcTbQgv",
        "outputId": "93a16410-cdb6-4e3d-a354-2af417ead7a8"
      },
      "execution_count": null,
      "outputs": [
        {
          "output_type": "stream",
          "name": "stdout",
          "text": [
            "+--------------+-----------+-------------+-----------+----+\n",
            "|     review_id|star_rating|helpful_votes|total_votes|vine|\n",
            "+--------------+-----------+-------------+-----------+----+\n",
            "|R1000G235G84VS|          5|            0|          7|   N|\n",
            "|R103NDNKDVKGYD|          5|            0|          0|   N|\n",
            "|R1068F9HHXTYR5|          1|            0|          0|   N|\n",
            "|R10D7QYJVUDBJI|          3|            0|          1|   N|\n",
            "|R10HY4HIY7HLIY|          5|            0|          0|   N|\n",
            "|R10NGF2CDJZBND|          5|           61|         63|   N|\n",
            "|R10OUGP1VVK7JG|          4|           10|         10|   N|\n",
            "|R10OVB2XLAB5YA|          5|            2|         12|   N|\n",
            "|R10S1BI2PXII2T|          4|            1|          2|   N|\n",
            "|R10TIKWPEVXNG7|          5|            0|          0|   N|\n",
            "|R10VND2YDQVKET|          5|            2|          2|   N|\n",
            "|R10X37FJGANCT7|          1|            7|         13|   N|\n",
            "|R10YNLQ6Y1R161|          5|            0|          1|   N|\n",
            "|R110565ZKI140J|          4|            2|          2|   N|\n",
            "|R1115JWTLNM3V0|          3|            0|          0|   N|\n",
            "|R1117HP3M7IP7Y|          5|           14|         17|   N|\n",
            "|R1121WS8SNWVPU|          5|           12|         14|   N|\n",
            "|R114AFFCNGTE4B|          1|           57|         59|   N|\n",
            "|R11BH5Y4MNYCVU|          5|            4|          4|   N|\n",
            "|R11BWLF5CHU718|          5|            5|          7|   N|\n",
            "+--------------+-----------+-------------+-----------+----+\n",
            "only showing top 20 rows\n",
            "\n"
          ]
        }
      ]
    },
    {
      "cell_type": "code",
      "source": [
        "# Configuration for RDS instance\n",
        "mode=\"append\"\n",
        "jdbc_url = \"jdbc:postgresql://<insert endpoint>:5432/my_data_class_db\"\n",
        "config = {\"user\":\"postgres\",\n",
        "          \"password\": \"<postgres>\",\n",
        "          \"driver\":\"org.postgresql.Driver\"}"
      ],
      "metadata": {
        "id": "cWCGW0Pum1Uu"
      },
      "execution_count": null,
      "outputs": []
    },
    {
      "cell_type": "code",
      "source": [
        "# Write DataFrame to table (Vine)\n",
        "\n",
        "vine.write.jdbc(url=jdbc_url, table=\"vine\", mode=mode, properties=config)"
      ],
      "metadata": {
        "id": "xNBb3363rVtz"
      },
      "execution_count": null,
      "outputs": []
    },
    {
      "cell_type": "code",
      "source": [
        "# Write  DataFrame to table (Customer)\n",
        "\n",
        "\n",
        "customer.write.jdbc(url=jdbc_url, table=\"customer\", mode=mode, properties=config)"
      ],
      "metadata": {
        "id": "HtUSCw1crH4j"
      },
      "execution_count": null,
      "outputs": []
    },
    {
      "cell_type": "code",
      "source": [
        "# Write  DataFrame to table (Review ID)\n",
        "\n",
        "\n",
        "review_id_table.write.jdbc(url=jdbc_url, table=\"review_id_table\", mode=mode, properties=config)"
      ],
      "metadata": {
        "id": "zWIpczdXyurj"
      },
      "execution_count": null,
      "outputs": []
    },
    {
      "cell_type": "code",
      "source": [
        "# Write  DataFrame to table (Products)\n",
        "\n",
        "\n",
        "products.write.jdbc(url=jdbc_url, table=\"products\", mode=mode, properties=config)"
      ],
      "metadata": {
        "id": "rhL5iRV6z2ka"
      },
      "execution_count": null,
      "outputs": []
    }
  ]
}